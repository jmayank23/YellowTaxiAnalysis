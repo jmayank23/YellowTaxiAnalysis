{
 "cells": [
  {
   "cell_type": "markdown",
   "metadata": {},
   "source": [
    "# Initialization"
   ]
  },
  {
   "cell_type": "code",
   "execution_count": 19,
   "metadata": {},
   "outputs": [],
   "source": [
    "from pyspark.sql import SparkSession\n",
    "from pyspark.sql.types import LongType, DecimalType, IntegerType\n",
    "from pyspark.sql.functions import col\n",
    "from functools import reduce\n",
    "\n",
    "\n",
    "# Create a Spark session\n",
    "spark = SparkSession.builder \\\n",
    "    .appName(\"Yellow Taxi EDA\") \\\n",
    "    .getOrCreate()\n"
   ]
  },
  {
   "cell_type": "markdown",
   "metadata": {},
   "source": [
    "# Importing Data"
   ]
  },
  {
   "cell_type": "code",
   "execution_count": 25,
   "metadata": {},
   "outputs": [],
   "source": [
    "paths = [\n",
    "        './yellow_taxi_data/yellow_tripdata_2023-01.parquet', \n",
    "        './yellow_taxi_data/yellow_tripdata_2023-02.parquet',\n",
    "        './yellow_taxi_data/yellow_tripdata_2023-03.parquet'\n",
    "\n",
    "        ]"
   ]
  },
  {
   "cell_type": "code",
   "execution_count": 26,
   "metadata": {},
   "outputs": [
    {
     "name": "stdout",
     "output_type": "stream",
     "text": [
      "+--------+--------------------+---------------------+---------------+-------------+----------+------------------+------------+------------+------------+-----------+-----+-------+----------+------------+---------------------+------------+--------------------+-----------+\n",
      "|VendorID|tpep_pickup_datetime|tpep_dropoff_datetime|passenger_count|trip_distance|RatecodeID|store_and_fwd_flag|PULocationID|DOLocationID|payment_type|fare_amount|extra|mta_tax|tip_amount|tolls_amount|improvement_surcharge|total_amount|congestion_surcharge|Airport_fee|\n",
      "+--------+--------------------+---------------------+---------------+-------------+----------+------------------+------------+------------+------------+-----------+-----+-------+----------+------------+---------------------+------------+--------------------+-----------+\n",
      "|       1| 2023-02-01 00:32:53|  2023-02-01 00:34:34|              2|          0.3|         1|                 N|         142|         163|           2|        4.4|  3.5|    0.5|       0.0|         0.0|                  1.0|         9.4|                 2.5|        0.0|\n",
      "|       2| 2023-02-01 00:35:16|  2023-02-01 00:35:30|              1|          0.0|         1|                 N|          71|          71|           4|       -3.0| -1.0|   -0.5|       0.0|         0.0|                 -1.0|        -5.5|                 0.0|        0.0|\n",
      "|       2| 2023-02-01 00:35:16|  2023-02-01 00:35:30|              1|          0.0|         1|                 N|          71|          71|           4|        3.0|  1.0|    0.5|       0.0|         0.0|                  1.0|         5.5|                 0.0|        0.0|\n",
      "|       1| 2023-02-01 00:29:33|  2023-02-01 01:01:38|              0|         18.8|         1|                 N|         132|          26|           1|       70.9| 2.25|    0.5|       0.0|         0.0|                  1.0|       74.65|                 0.0|       1.25|\n",
      "|       2| 2023-02-01 00:12:28|  2023-02-01 00:25:46|              1|         3.22|         1|                 N|         161|         145|           1|       17.0|  1.0|    0.5|       3.3|         0.0|                  1.0|        25.3|                 2.5|        0.0|\n",
      "|       1| 2023-02-01 00:52:40|  2023-02-01 01:07:18|              1|          5.1|         1|                 N|         148|         236|           1|       21.9|  3.5|    0.5|      5.35|         0.0|                  1.0|       32.25|                 2.5|        0.0|\n",
      "|       1| 2023-02-01 00:12:39|  2023-02-01 00:40:36|              1|          8.9|         1|                 N|         137|         244|           1|       41.5|  3.5|    0.5|       3.5|         0.0|                  1.0|        50.0|                 2.5|        0.0|\n",
      "|       1| 2023-02-01 00:56:53|  2023-02-01 01:00:37|              1|          1.2|         1|                 N|         263|         141|           1|        7.2|  3.5|    0.5|      2.44|         0.0|                  1.0|       14.64|                 2.5|        0.0|\n",
      "|       2| 2023-02-01 00:20:40|  2023-02-01 00:33:56|              1|         7.49|         1|                 N|          48|         243|           1|       30.3|  1.0|    0.5|      8.82|         0.0|                  1.0|       44.12|                 2.5|        0.0|\n",
      "|       2| 2023-02-01 00:33:51|  2023-02-01 00:37:34|              1|         0.51|         1|                 N|         114|         211|           1|        5.8|  1.0|    0.5|      1.62|         0.0|                  1.0|       12.42|                 2.5|        0.0|\n",
      "|       2| 2023-02-01 01:00:45|  2023-02-01 01:06:00|              1|         0.78|         1|                 N|         114|         249|           1|        7.2|  1.0|    0.5|      2.44|         0.0|                  1.0|       14.64|                 2.5|        0.0|\n",
      "|       2| 2023-02-01 00:10:48|  2023-02-01 00:18:09|              1|         1.57|         1|                 N|         125|         107|           1|       10.0|  1.0|    0.5|       1.0|         0.0|                  1.0|        16.0|                 2.5|        0.0|\n",
      "|       2| 2023-02-01 00:00:28|  2023-02-01 00:12:54|              1|          5.4|         1|                 N|         140|          42|           1|       23.3|  1.0|    0.5|       2.0|         0.0|                  1.0|        30.3|                 2.5|        0.0|\n",
      "|       2| 2023-02-01 00:35:06|  2023-02-01 00:45:47|              1|         3.44|         1|                 N|         140|         226|           1|       16.3|  1.0|    0.5|      4.26|         0.0|                  1.0|       25.56|                 2.5|        0.0|\n",
      "|       2| 2023-02-01 00:06:00|  2023-02-01 00:10:31|              5|         1.03|         1|                 N|         249|          90|           1|        7.2|  1.0|    0.5|      3.05|         0.0|                  1.0|       15.25|                 2.5|        0.0|\n",
      "|       2| 2023-02-01 00:31:02|  2023-02-01 00:41:26|              5|         2.06|         1|                 N|         234|           4|           1|       12.1|  1.0|    0.5|      3.42|         0.0|                  1.0|       20.52|                 2.5|        0.0|\n",
      "|       2| 2023-02-01 00:47:56|  2023-02-01 00:53:02|              5|         0.93|         1|                 N|         114|         125|           1|        7.2|  1.0|    0.5|       0.0|         0.0|                  1.0|        12.2|                 2.5|        0.0|\n",
      "|       1| 2023-02-01 00:01:09|  2023-02-01 00:51:49|              1|         20.3|         2|                 N|         132|         239|           1|       70.0| 3.75|    0.5|     16.35|        6.55|                  1.0|       98.15|                 2.5|       1.25|\n",
      "|       1| 2023-02-01 00:41:47|  2023-02-01 01:14:14|              1|         18.4|         2|                 N|         132|         230|           1|       70.0| 3.75|    0.5|       2.0|        6.55|                  1.0|        83.8|                 2.5|       1.25|\n",
      "|       2| 2023-02-01 00:22:16|  2023-02-01 00:40:34|              2|         4.14|         1|                 N|         140|          68|           2|       21.9|  1.0|    0.5|       0.0|         0.0|                  1.0|        26.9|                 2.5|        0.0|\n",
      "+--------+--------------------+---------------------+---------------+-------------+----------+------------------+------------+------------+------------+-----------+-----+-------+----------+------------+---------------------+------------+--------------------+-----------+\n",
      "only showing top 20 rows\n",
      "\n"
     ]
    }
   ],
   "source": [
    "# Function to load and cast a single Parquet file\n",
    "def load_and_cast(filepath):\n",
    "    df = spark.read.parquet(filepath)\n",
    "    df = df.withColumn(\"VendorID\", col(\"VendorID\").cast(IntegerType()))\n",
    "    return df\n",
    "\n",
    "# Load, cast, and accumulate all DataFrames\n",
    "dataframes = [load_and_cast(path) for path in paths]\n",
    "df = reduce(lambda df1, df2: df1.unionByName(df2), dataframes)\n",
    "\n",
    "# Show the DataFrame\n",
    "df.show()"
   ]
  },
  {
   "cell_type": "code",
   "execution_count": 27,
   "metadata": {},
   "outputs": [
    {
     "data": {
      "text/plain": [
       "6317721"
      ]
     },
     "execution_count": 27,
     "metadata": {},
     "output_type": "execute_result"
    }
   ],
   "source": [
    "df.count()"
   ]
  },
  {
   "cell_type": "code",
   "execution_count": 23,
   "metadata": {},
   "outputs": [
    {
     "name": "stdout",
     "output_type": "stream",
     "text": [
      "root\n",
      " |-- VendorID: integer (nullable = true)\n",
      " |-- tpep_pickup_datetime: timestamp_ntz (nullable = true)\n",
      " |-- tpep_dropoff_datetime: timestamp_ntz (nullable = true)\n",
      " |-- passenger_count: double (nullable = true)\n",
      " |-- trip_distance: double (nullable = true)\n",
      " |-- RatecodeID: double (nullable = true)\n",
      " |-- store_and_fwd_flag: string (nullable = true)\n",
      " |-- PULocationID: long (nullable = true)\n",
      " |-- DOLocationID: long (nullable = true)\n",
      " |-- payment_type: long (nullable = true)\n",
      " |-- fare_amount: double (nullable = true)\n",
      " |-- extra: double (nullable = true)\n",
      " |-- mta_tax: double (nullable = true)\n",
      " |-- tip_amount: double (nullable = true)\n",
      " |-- tolls_amount: double (nullable = true)\n",
      " |-- improvement_surcharge: double (nullable = true)\n",
      " |-- total_amount: double (nullable = true)\n",
      " |-- congestion_surcharge: double (nullable = true)\n",
      " |-- airport_fee: double (nullable = true)\n",
      "\n"
     ]
    }
   ],
   "source": [
    "df.printSchema()"
   ]
  },
  {
   "cell_type": "code",
   "execution_count": 24,
   "metadata": {},
   "outputs": [
    {
     "name": "stderr",
     "output_type": "stream",
     "text": [
      "[Stage 39:=====================================================>  (23 + 1) / 24]\r"
     ]
    },
    {
     "name": "stdout",
     "output_type": "stream",
     "text": [
      "+-------+-------------------+------------------+------------------+------------------+------------------+------------------+------------------+------------------+-----------------+------------------+------------------+------------------+------------------+---------------------+------------------+--------------------+-------------------+\n",
      "|summary|           VendorID|   passenger_count|     trip_distance|        RatecodeID|store_and_fwd_flag|      PULocationID|      DOLocationID|      payment_type|      fare_amount|             extra|           mta_tax|        tip_amount|      tolls_amount|improvement_surcharge|      total_amount|congestion_surcharge|        airport_fee|\n",
      "+-------+-------------------+------------------+------------------+------------------+------------------+------------------+------------------+------------------+-----------------+------------------+------------------+------------------+------------------+---------------------+------------------+--------------------+-------------------+\n",
      "|  count|            9384487|           9148308|           9384487|           9148308|           9148308|           9384487|           9384487|           9384487|          9384487|           9384487|           9384487|           9384487|           9384487|              9384487|           9384487|             9148308|            9148308|\n",
      "|   mean| 1.7287708960543076| 1.355499618071451| 3.874277528435664|1.5486096445375472|              NULL|166.01182174369254|164.23662103213528|1.1882839200480537|18.51788001198273|1.5779782304562888|0.4878526657877009|3.4193540041140325|0.5338849529035813|   0.9814724555534257| 27.26654346469178|   2.278005916503904|0.10288459898814076|\n",
      "| stddev|0.45203136038804753|0.8903758149364824|236.76264771847164| 6.855882439122491|              NULL| 64.02818493014279| 69.78675209561827|0.5310003057287708|17.87964229785613|1.8104549638969893|0.1020753183178588|3.8930561193160576|2.0581988102237734|  0.18673065864841404|22.326190988905786|  0.7694737425795007|0.34859739508884163|\n",
      "|    min|                  1|               0.0|               0.0|               1.0|                 N|                 1|                 1|                 0|           -959.9|              -7.5|              -0.5|            -96.22|             -73.3|                 -1.0|           -982.95|                -2.5|              -1.25|\n",
      "|    max|                  6|               9.0|         335004.33|              99.0|                 Y|               265|               265|                 5|           2203.1|              20.8|             53.16|             984.3|            196.99|                  1.0|            2208.1|                2.75|               1.25|\n",
      "+-------+-------------------+------------------+------------------+------------------+------------------+------------------+------------------+------------------+-----------------+------------------+------------------+------------------+------------------+---------------------+------------------+--------------------+-------------------+\n",
      "\n"
     ]
    },
    {
     "name": "stderr",
     "output_type": "stream",
     "text": [
      "                                                                                \r"
     ]
    }
   ],
   "source": [
    "# Summary statistics for numeric columns\n",
    "df.describe().show()\n"
   ]
  },
  {
   "cell_type": "markdown",
   "metadata": {},
   "source": [
    "# EDA "
   ]
  },
  {
   "cell_type": "markdown",
   "metadata": {},
   "source": [
    "## 1. Fare amount vs Tip Amount"
   ]
  },
  {
   "cell_type": "code",
   "execution_count": null,
   "metadata": {},
   "outputs": [],
   "source": []
  }
 ],
 "metadata": {
  "kernelspec": {
   "display_name": "Python 3",
   "language": "python",
   "name": "python3"
  },
  "language_info": {
   "codemirror_mode": {
    "name": "ipython",
    "version": 3
   },
   "file_extension": ".py",
   "mimetype": "text/x-python",
   "name": "python",
   "nbconvert_exporter": "python",
   "pygments_lexer": "ipython3",
   "version": "3.9.9"
  }
 },
 "nbformat": 4,
 "nbformat_minor": 2
}

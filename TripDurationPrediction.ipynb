{
 "cells": [
  {
   "cell_type": "code",
   "execution_count": 7,
   "id": "b91fc7bd-1bde-4674-aae9-0ef37db0badd",
   "metadata": {},
   "outputs": [
    {
     "name": "stdout",
     "output_type": "stream",
     "text": [
      "Requirement already satisfied: geopandas in /Users/mj/conda_env/tf/lib/python3.9/site-packages (0.14.4)\n",
      "Requirement already satisfied: fiona>=1.8.21 in /Users/mj/conda_env/tf/lib/python3.9/site-packages (from geopandas) (1.9.6)\n",
      "Requirement already satisfied: numpy>=1.22 in /Users/mj/conda_env/tf/lib/python3.9/site-packages (from geopandas) (1.24.3)\n",
      "Requirement already satisfied: packaging in /Users/mj/conda_env/tf/lib/python3.9/site-packages (from geopandas) (23.2)\n",
      "Requirement already satisfied: pandas>=1.4.0 in /Users/mj/conda_env/tf/lib/python3.9/site-packages (from geopandas) (2.2.2)\n",
      "Requirement already satisfied: pyproj>=3.3.0 in /Users/mj/conda_env/tf/lib/python3.9/site-packages (from geopandas) (3.6.1)\n",
      "Requirement already satisfied: shapely>=1.8.0 in /Users/mj/conda_env/tf/lib/python3.9/site-packages (from geopandas) (2.0.4)\n",
      "Requirement already satisfied: attrs>=19.2.0 in /Users/mj/conda_env/tf/lib/python3.9/site-packages (from fiona>=1.8.21->geopandas) (21.2.0)\n",
      "Requirement already satisfied: certifi in /Users/mj/conda_env/tf/lib/python3.9/site-packages (from fiona>=1.8.21->geopandas) (2022.12.7)\n",
      "Requirement already satisfied: click~=8.0 in /Users/mj/conda_env/tf/lib/python3.9/site-packages (from fiona>=1.8.21->geopandas) (8.0.3)\n",
      "Requirement already satisfied: click-plugins>=1.0 in /Users/mj/conda_env/tf/lib/python3.9/site-packages (from fiona>=1.8.21->geopandas) (1.1.1)\n",
      "Requirement already satisfied: cligj>=0.5 in /Users/mj/conda_env/tf/lib/python3.9/site-packages (from fiona>=1.8.21->geopandas) (0.7.2)\n",
      "Requirement already satisfied: six in /Users/mj/conda_env/tf/lib/python3.9/site-packages (from fiona>=1.8.21->geopandas) (1.15.0)\n",
      "Requirement already satisfied: importlib-metadata in /Users/mj/conda_env/tf/lib/python3.9/site-packages (from fiona>=1.8.21->geopandas) (4.10.0)\n",
      "Requirement already satisfied: python-dateutil>=2.8.2 in /Users/mj/conda_env/tf/lib/python3.9/site-packages (from pandas>=1.4.0->geopandas) (2.8.2)\n",
      "Requirement already satisfied: pytz>=2020.1 in /Users/mj/conda_env/tf/lib/python3.9/site-packages (from pandas>=1.4.0->geopandas) (2021.3)\n",
      "Requirement already satisfied: tzdata>=2022.7 in /Users/mj/conda_env/tf/lib/python3.9/site-packages (from pandas>=1.4.0->geopandas) (2023.3)\n",
      "Requirement already satisfied: zipp>=0.5 in /Users/mj/conda_env/tf/lib/python3.9/site-packages (from importlib-metadata->fiona>=1.8.21->geopandas) (3.6.0)\n"
     ]
    }
   ],
   "source": [
    "!pip install --no-cache-dir geopandas\n",
    "import geopandas"
   ]
  },
  {
   "cell_type": "code",
   "execution_count": 8,
   "id": "11618737-ea8c-4832-9711-405f39853fe0",
   "metadata": {},
   "outputs": [],
   "source": [
    "from pyspark.sql import SparkSession\n",
    "from pyspark.sql.types import LongType, DecimalType, IntegerType, StructType, StructField, StringType, DoubleType\n",
    "from pyspark.sql.functions import col, month, year, isnan, desc, unix_timestamp, to_timestamp, dayofmonth, hour, minute, second, mean\n",
    "from functools import reduce\n",
    "import seaborn as sns\n",
    "import pandas as pd\n",
    "import numpy as np\n",
    "import geopandas as gpd\n",
    "import matplotlib.pyplot as plt"
   ]
  },
  {
   "cell_type": "code",
   "execution_count": 9,
   "id": "6dd83954-978c-4996-a598-0d73e14eeb18",
   "metadata": {},
   "outputs": [],
   "source": [
    "# Setting up a theme with Seaborn\n",
    "sns.set_theme(style=\"whitegrid\")\n",
    "\n",
    "# Adjusting font scale for better readability\n",
    "sns.set_context(\"notebook\", font_scale=1.2)"
   ]
  },
  {
   "cell_type": "code",
   "execution_count": 10,
   "id": "6059634b-d5d8-4e9f-a5a2-15402f519235",
   "metadata": {},
   "outputs": [],
   "source": [
    "spark = SparkSession.builder \\\n",
    "    .config(\"spark.driver.memory\", \"4g\") \\\n",
    "\t.config(\"spark.executor.memory\", \"1g\") \\\n",
    "    .config('spark.executor.instances', 6) \\\n",
    "\t.appName(\"Yellow Taxi\") \\\n",
    "\t.getOrCreate()"
   ]
  },
  {
   "cell_type": "code",
   "execution_count": 11,
   "id": "dd52fc6c-1671-4b59-8d07-e09b6581722b",
   "metadata": {},
   "outputs": [],
   "source": [
    "base_path = '../yellow_taxi_data/yellow_tripdata_2023-{:02d}.parquet'\n",
    "\n",
    "paths=[]\n",
    "for mo in range(1, 7):  # This loops from 1 to 12\n",
    "    path = base_path.format(mo)  # Formats the month with leading zero if necessary\n",
    "    paths.append(path)"
   ]
  },
  {
   "cell_type": "code",
   "execution_count": 12,
   "id": "d5959a0b-37e0-49a1-b8e4-ee2cb315bd4d",
   "metadata": {},
   "outputs": [
    {
     "name": "stderr",
     "output_type": "stream",
     "text": [
      "                                                                                \r"
     ]
    },
    {
     "name": "stdout",
     "output_type": "stream",
     "text": [
      "+--------+--------------------+---------------------+---------------+-------------+----------+------------------+------------+------------+------------+-----------+-----+-------+----------+------------+---------------------+------------+--------------------+-----------+\n",
      "|VendorID|tpep_pickup_datetime|tpep_dropoff_datetime|passenger_count|trip_distance|RatecodeID|store_and_fwd_flag|PULocationID|DOLocationID|payment_type|fare_amount|extra|mta_tax|tip_amount|tolls_amount|improvement_surcharge|total_amount|congestion_surcharge|airport_fee|\n",
      "+--------+--------------------+---------------------+---------------+-------------+----------+------------------+------------+------------+------------+-----------+-----+-------+----------+------------+---------------------+------------+--------------------+-----------+\n",
      "|       2| 2023-01-01 00:32:10|  2023-01-01 00:40:36|            1.0|         0.97|       1.0|                 N|         161|         141|           2|        9.3|  1.0|    0.5|       0.0|         0.0|                  1.0|        14.3|                 2.5|        0.0|\n",
      "+--------+--------------------+---------------------+---------------+-------------+----------+------------------+------------+------------+------------+-----------+-----+-------+----------+------------+---------------------+------------+--------------------+-----------+\n",
      "only showing top 1 row\n",
      "\n"
     ]
    }
   ],
   "source": [
    "def load_and_cast(filepath):\n",
    "    df = spark.read.parquet(filepath)\n",
    "    df = df.withColumn(\"VendorID\", col(\"VendorID\").cast(IntegerType()))\n",
    "    return df\n",
    "\n",
    "# Load, cast, and accumulate all DataFrames\n",
    "dataframes = [load_and_cast(path) for path in paths]\n",
    "df = reduce(lambda df1, df2: df1.unionByName(df2), dataframes)\n",
    "\n",
    "# Show the DataFrame\n",
    "df.show(1)"
   ]
  },
  {
   "cell_type": "code",
   "execution_count": 13,
   "id": "a2717790-69b1-43e8-a576-f724e81eb372",
   "metadata": {},
   "outputs": [],
   "source": [
    "from shapely.geometry import Point"
   ]
  },
  {
   "cell_type": "code",
   "execution_count": 15,
   "id": "6238bc20-340a-4389-8b1a-b5a8e8d6b778",
   "metadata": {},
   "outputs": [],
   "source": [
    "zone = gpd.read_file(\"yellow_taxi_data/yellow_taxi_zones/taxi_zones.shp\")\n",
    "\n",
    "zone.set_crs(\"EPSG:2263\", inplace=True)\n",
    "zone['center'] = zone.representative_point()\n",
    "center_gdf = gpd.GeoDataFrame(zone, geometry=zone['center'])\n",
    "center_gdf = center_gdf.to_crs(\"EPSG:4326\")\n",
    "\n",
    "zone['long'] = center_gdf.geometry.x\n",
    "zone['lat'] = center_gdf.geometry.y\n",
    "\n",
    "zone = zone.drop(columns = ['OBJECTID','geometry','center'])"
   ]
  },
  {
   "cell_type": "code",
   "execution_count": 16,
   "id": "e33e0c1d-9eb1-4ade-a4dd-4e3777f6e790",
   "metadata": {},
   "outputs": [],
   "source": [
    "schemazone = StructType([\n",
    "    StructField(\"Shape_Leng\", DoubleType(), True),\n",
    "    StructField(\"Shape_Area\", DoubleType(), True),\n",
    "    StructField(\"Zone\", StringType(), True),\n",
    "    StructField(\"LocationID\", StringType(), True),\n",
    "    StructField(\"Borough\", StringType(), True),\n",
    "    StructField(\"Long\", DoubleType(), True),\n",
    "    StructField(\"Lat\", DoubleType(), True)\n",
    "\n",
    "])\n",
    "\n",
    "zonedf = spark.createDataFrame(zone, schemazone)"
   ]
  },
  {
   "cell_type": "code",
   "execution_count": 17,
   "id": "465cf78b-75f2-4b24-b03f-0c5089d1de86",
   "metadata": {},
   "outputs": [],
   "source": [
    "merged_zone = df.join(zonedf, df.PULocationID == zonedf.LocationID, how = 'left')"
   ]
  },
  {
   "cell_type": "code",
   "execution_count": 18,
   "id": "43770274-2597-4ba5-8ae3-776b67cf7101",
   "metadata": {},
   "outputs": [],
   "source": [
    "merged_zone = merged_zone.drop(*('VendorID','passenger_count','RatecodeID','store_and_fwd_flag','payment_type', 'fare_amount',\n",
    "                                'extra','mta_tax','tip_amount','tolls_amount','improvement_surcharge','total_amount','congestion_surcharge',\n",
    "                                'airport_fee', 'LocationID'))"
   ]
  },
  {
   "cell_type": "code",
   "execution_count": 19,
   "id": "41237ce2-c1c5-48a2-a49a-48677cb1f6f2",
   "metadata": {},
   "outputs": [],
   "source": [
    "merged_zone = merged_zone.withColumnRenamed(\"Shape_Leng\", \"PU_Shape_Leng\") \\\n",
    "                         .withColumnRenamed(\"Shape_Area\", \"PU_Shape_Area\") \\\n",
    "                         .withColumnRenamed(\"Zone\", \"PU_Zone\") \\\n",
    "                         .withColumnRenamed(\"Borough\", \"PU_Borough\") \\\n",
    "                         .withColumnRenamed(\"long\", \"PU_Long\") \\\n",
    "                         .withColumnRenamed(\"lat\", \"PU_Lat\")"
   ]
  },
  {
   "cell_type": "code",
   "execution_count": 20,
   "id": "49b89da5-2a46-45fa-9bc2-e2988ded5f01",
   "metadata": {},
   "outputs": [],
   "source": [
    "merged_zone = merged_zone.join(zonedf, merged_zone.DOLocationID == zonedf.LocationID, how = 'left')"
   ]
  },
  {
   "cell_type": "code",
   "execution_count": 21,
   "id": "e6434dea-125a-4696-90c5-9faf53af2a83",
   "metadata": {},
   "outputs": [],
   "source": [
    "merged_zone = merged_zone.withColumnRenamed(\"Shape_Leng\", \"DO_Shape_Leng\") \\\n",
    "                         .withColumnRenamed(\"Shape_Area\", \"DO_Shape_Area\") \\\n",
    "                         .withColumnRenamed(\"Zone\", \"DO_Zone\") \\\n",
    "                         .withColumnRenamed(\"Borough\", \"DO_Borough\") \\\n",
    "                         .withColumnRenamed(\"long\", \"DO_Long\") \\\n",
    "                         .withColumnRenamed(\"lat\", \"DO_Lat\")"
   ]
  },
  {
   "cell_type": "code",
   "execution_count": 22,
   "id": "2e8caa29-62bc-4c49-81e0-73b10437d886",
   "metadata": {},
   "outputs": [],
   "source": [
    "from pyspark.sql.functions import col, unix_timestamp, expr\n",
    "\n",
    "merged_zone = merged_zone.withColumn('tpep_pickup_datetime', col('tpep_pickup_datetime').cast('timestamp'))\n",
    "merged_zone = merged_zone.withColumn('tpep_dropoff_datetime', col('tpep_dropoff_datetime').cast('timestamp'))\n",
    "merged_zone = merged_zone.withColumn('time_diff_seconds', unix_timestamp('tpep_dropoff_datetime') - unix_timestamp('tpep_pickup_datetime'))\n",
    "\n",
    "merged_zone = merged_zone.withColumn('duration_mins', (col('time_diff_seconds') / 60).cast('int'))\n",
    "merged_zone = merged_zone.drop('time_diff_seconds')"
   ]
  },
  {
   "cell_type": "code",
   "execution_count": 23,
   "id": "87f8882e-3c73-4fd7-857f-bd791b20233f",
   "metadata": {},
   "outputs": [],
   "source": [
    "merged_zone = merged_zone.drop('LocationID')"
   ]
  },
  {
   "cell_type": "code",
   "execution_count": 24,
   "id": "66aa27f2-5220-408e-9c7b-6b36fde9b93c",
   "metadata": {},
   "outputs": [],
   "source": [
    "from pyspark.sql.functions import year, month, dayofmonth, hour, minute, dayofweek\n",
    "\n",
    "merged_zone = merged_zone.withColumn('month', month('tpep_pickup_datetime')) \\\n",
    "                         .withColumn('day', dayofmonth('tpep_pickup_datetime')) \\\n",
    "                         .withColumn('hour', hour('tpep_pickup_datetime')) \\\n",
    "                         .withColumn('minute', minute('tpep_pickup_datetime'))\\\n",
    "                         .withColumn('dayOfWeek', dayofweek('tpep_pickup_datetime'))"
   ]
  },
  {
   "cell_type": "code",
   "execution_count": 25,
   "id": "660e54f3-ae66-4e27-9398-126d28d67029",
   "metadata": {},
   "outputs": [],
   "source": [
    "merged_zone = merged_zone.withColumn('is_weekend', (merged_zone.dayOfWeek.isin([1, 7])).cast('boolean'))\n"
   ]
  },
  {
   "cell_type": "code",
   "execution_count": 26,
   "id": "b00d3a63-16ba-4cff-a80f-77cb205fdcb6",
   "metadata": {},
   "outputs": [],
   "source": [
    "from pyspark.sql.functions import col, sum\n",
    "\n",
    "na_counts = merged_zone.select([sum(col(c).isNull().cast(\"int\")).alias(c) for c in merged_zone.columns])"
   ]
  },
  {
   "cell_type": "code",
   "execution_count": 27,
   "id": "23776e11-c360-4e70-9d2c-bcd506636efc",
   "metadata": {},
   "outputs": [
    {
     "name": "stderr",
     "output_type": "stream",
     "text": [
      "Java HotSpot(TM) 64-Bit Server VM warning: CodeCache is full. Compiler has been disabled.\n",
      "Java HotSpot(TM) 64-Bit Server VM warning: Try increasing the code cache size using -XX:ReservedCodeCacheSize=\n"
     ]
    },
    {
     "name": "stdout",
     "output_type": "stream",
     "text": [
      "CodeCache: size=131072Kb used=30983Kb max_used=30998Kb free=100088Kb\n",
      " bounds [0x00000001069e0000, 0x0000000108870000, 0x000000010e9e0000]\n",
      " total_blobs=11020 nmethods=10020 adapters=909\n",
      " compilation: disabled (not enough contiguous free space left)\n"
     ]
    },
    {
     "name": "stderr",
     "output_type": "stream",
     "text": [
      "[Stage 13:===================================================>      (8 + 1) / 9]\r"
     ]
    },
    {
     "name": "stdout",
     "output_type": "stream",
     "text": [
      "+--------------------+---------------------+-------------+------------+------------+-------------+-------------+-------+----------+-------+------+-------------+-------------+-------+----------+-------+------+-------------+-----+---+----+------+---------+----------+\n",
      "|tpep_pickup_datetime|tpep_dropoff_datetime|trip_distance|PULocationID|DOLocationID|PU_Shape_Leng|PU_Shape_Area|PU_Zone|PU_Borough|PU_Long|PU_Lat|DO_Shape_Leng|DO_Shape_Area|DO_Zone|DO_Borough|DO_Long|DO_Lat|duration_mins|month|day|hour|minute|dayOfWeek|is_weekend|\n",
      "+--------------------+---------------------+-------------+------------+------------+-------------+-------------+-------+----------+-------+------+-------------+-------------+-------+----------+-------+------+-------------+-----+---+----+------+---------+----------+\n",
      "|                   0|                    0|            0|           0|           0|       223909|       223909| 223909|    223909| 223909|223909|       278399|       278399| 278399|    278399| 278399|278399|            0|    0|  0|   0|     0|        0|         0|\n",
      "+--------------------+---------------------+-------------+------------+------------+-------------+-------------+-------+----------+-------+------+-------------+-------------+-------+----------+-------+------+-------------+-----+---+----+------+---------+----------+\n",
      "\n"
     ]
    },
    {
     "name": "stderr",
     "output_type": "stream",
     "text": [
      "                                                                                \r"
     ]
    }
   ],
   "source": [
    "na_counts.show()"
   ]
  },
  {
   "cell_type": "code",
   "execution_count": 28,
   "id": "3f044993-4d9c-4897-b761-de40a92e052d",
   "metadata": {},
   "outputs": [
    {
     "name": "stderr",
     "output_type": "stream",
     "text": [
      "                                                                                \r"
     ]
    },
    {
     "data": {
      "text/plain": [
       "19500314"
      ]
     },
     "execution_count": 28,
     "metadata": {},
     "output_type": "execute_result"
    }
   ],
   "source": [
    "merged_zone.count()"
   ]
  },
  {
   "cell_type": "code",
   "execution_count": 29,
   "id": "714f5781-dbb4-4212-a6e8-cb391194b54a",
   "metadata": {},
   "outputs": [
    {
     "name": "stderr",
     "output_type": "stream",
     "text": [
      "[Stage 26:======================================================> (47 + 1) / 48]\r"
     ]
    },
    {
     "name": "stdout",
     "output_type": "stream",
     "text": [
      "+--------------------+---------------------+-------------+------------+------------+-------------+-------------+-------+----------+-------+------+---------------+----------------+--------------------+----------+------------------+------------------+-------------+-----+---+----+------+---------+----------+\n",
      "|tpep_pickup_datetime|tpep_dropoff_datetime|trip_distance|PULocationID|DOLocationID|PU_Shape_Leng|PU_Shape_Area|PU_Zone|PU_Borough|PU_Long|PU_Lat|  DO_Shape_Leng|   DO_Shape_Area|             DO_Zone|DO_Borough|           DO_Long|            DO_Lat|duration_mins|month|day|hour|minute|dayOfWeek|is_weekend|\n",
      "+--------------------+---------------------+-------------+------------+------------+-------------+-------------+-------+----------+-------+------+---------------+----------------+--------------------+----------+------------------+------------------+-------------+-----+---+----+------+---------+----------+\n",
      "| 2023-01-01 00:10:50|  2023-01-01 00:20:19|         1.41|         264|         186|         NULL|         NULL|   NULL|      NULL|   NULL|  NULL|0.0246963902234|3.70729416953E-5|Penn Station/Madi...| Manhattan|-73.99245532771059|40.748476361762066|            9|    1|  1|   0|    10|        1|      true|\n",
      "| 2023-01-01 00:27:35|  2023-01-01 00:37:49|          1.7|         264|         114|         NULL|         NULL|   NULL|      NULL|   NULL|  NULL|0.0317270347711|4.70207704945E-5|Greenwich Village...| Manhattan|-73.99867794660439| 40.72861173158826|           10|    1|  1|   0|    27|        1|      true|\n",
      "| 2023-01-01 00:42:01|  2023-01-01 00:49:44|         1.14|         264|          79|         NULL|         NULL|   NULL|      NULL|   NULL|  NULL|0.0426249113144|1.07893068218E-4|        East Village| Manhattan|-73.98521412439773|40.727944278905156|            7|    1|  1|   0|    42|        1|      true|\n",
      "| 2023-01-01 00:53:36|  2023-01-01 01:34:51|         6.19|         264|         239|         NULL|         NULL|   NULL|      NULL|   NULL|  NULL|0.0636261152958|2.04715440774E-4|Upper West Side S...| Manhattan|-73.97827334184863| 40.78410736455398|           41|    1|  1|   0|    53|        1|      true|\n",
      "| 2023-01-01 00:04:08|  2023-01-01 00:10:54|          0.7|         264|         264|         NULL|         NULL|   NULL|      NULL|   NULL|  NULL|           NULL|            NULL|                NULL|      NULL|              NULL|              NULL|            6|    1|  1|   0|     4|        1|      true|\n",
      "+--------------------+---------------------+-------------+------------+------------+-------------+-------------+-------+----------+-------+------+---------------+----------------+--------------------+----------+------------------+------------------+-------------+-----+---+----+------+---------+----------+\n",
      "only showing top 5 rows\n",
      "\n"
     ]
    },
    {
     "name": "stderr",
     "output_type": "stream",
     "text": [
      "                                                                                \r"
     ]
    }
   ],
   "source": [
    "merged_zone.filter(col(\"PU_Shape_Leng\").isNull()).show(5)"
   ]
  },
  {
   "cell_type": "code",
   "execution_count": 30,
   "id": "53f81626-c5f2-48cb-8909-a09befec2eac",
   "metadata": {},
   "outputs": [],
   "source": [
    "merged_zone = merged_zone.na.fill({'PU_Zone': 'OutsideNYC', 'DO_Zone':'OutsideNYC', 'PU_Borough': 'OutsideNYC', \\\n",
    "                     'DO_Borough':'OutsideNYC'})"
   ]
  },
  {
   "cell_type": "code",
   "execution_count": 31,
   "id": "0e6b1487-d455-4db1-9c97-9f08689a478e",
   "metadata": {},
   "outputs": [
    {
     "name": "stderr",
     "output_type": "stream",
     "text": [
      "                                                                                \r"
     ]
    }
   ],
   "source": [
    "# numeric_cols = [field.name for field in merged_zone.schema.fields if isinstance(field.dataType, (DoubleType, IntegerType))]\n",
    "\n",
    "numeric_cols = ['PU_Long', 'PU_Lat',  'PU_Shape_Leng', 'PU_Shape_Area', 'DO_Long', 'DO_Lat',  'DO_Shape_Leng', 'DO_Shape_Area']\n",
    "for col_name in numeric_cols:\n",
    "    mean_value = merged_zone.select(mean(col(col_name))).collect()[0][0]\n",
    "    merged_zone = merged_zone.fillna({col_name: mean_value})"
   ]
  },
  {
   "cell_type": "code",
   "execution_count": 33,
   "id": "3bb6677c-4d75-48d7-bf68-79405b8f99b5",
   "metadata": {},
   "outputs": [
    {
     "data": {
      "text/html": [
       "<div>\n",
       "<style scoped>\n",
       "    .dataframe tbody tr th:only-of-type {\n",
       "        vertical-align: middle;\n",
       "    }\n",
       "\n",
       "    .dataframe tbody tr th {\n",
       "        vertical-align: top;\n",
       "    }\n",
       "\n",
       "    .dataframe thead th {\n",
       "        text-align: right;\n",
       "    }\n",
       "</style>\n",
       "<table border=\"1\" class=\"dataframe\">\n",
       "  <thead>\n",
       "    <tr style=\"text-align: right;\">\n",
       "      <th></th>\n",
       "      <th>OBJECTID</th>\n",
       "      <th>Shape_Leng</th>\n",
       "      <th>Shape_Area</th>\n",
       "      <th>zone</th>\n",
       "      <th>LocationID</th>\n",
       "      <th>borough</th>\n",
       "      <th>geometry</th>\n",
       "    </tr>\n",
       "  </thead>\n",
       "  <tbody>\n",
       "    <tr>\n",
       "      <th>0</th>\n",
       "      <td>1</td>\n",
       "      <td>0.116357</td>\n",
       "      <td>0.000782</td>\n",
       "      <td>Newark Airport</td>\n",
       "      <td>1</td>\n",
       "      <td>EWR</td>\n",
       "      <td>POLYGON ((933100.918 192536.086, 933091.011 19...</td>\n",
       "    </tr>\n",
       "    <tr>\n",
       "      <th>1</th>\n",
       "      <td>2</td>\n",
       "      <td>0.433470</td>\n",
       "      <td>0.004866</td>\n",
       "      <td>Jamaica Bay</td>\n",
       "      <td>2</td>\n",
       "      <td>Queens</td>\n",
       "      <td>MULTIPOLYGON (((1033269.244 172126.008, 103343...</td>\n",
       "    </tr>\n",
       "    <tr>\n",
       "      <th>2</th>\n",
       "      <td>3</td>\n",
       "      <td>0.084341</td>\n",
       "      <td>0.000314</td>\n",
       "      <td>Allerton/Pelham Gardens</td>\n",
       "      <td>3</td>\n",
       "      <td>Bronx</td>\n",
       "      <td>POLYGON ((1026308.770 256767.698, 1026495.593 ...</td>\n",
       "    </tr>\n",
       "    <tr>\n",
       "      <th>3</th>\n",
       "      <td>4</td>\n",
       "      <td>0.043567</td>\n",
       "      <td>0.000112</td>\n",
       "      <td>Alphabet City</td>\n",
       "      <td>4</td>\n",
       "      <td>Manhattan</td>\n",
       "      <td>POLYGON ((992073.467 203714.076, 992068.667 20...</td>\n",
       "    </tr>\n",
       "    <tr>\n",
       "      <th>4</th>\n",
       "      <td>5</td>\n",
       "      <td>0.092146</td>\n",
       "      <td>0.000498</td>\n",
       "      <td>Arden Heights</td>\n",
       "      <td>5</td>\n",
       "      <td>Staten Island</td>\n",
       "      <td>POLYGON ((935843.310 144283.336, 936046.565 14...</td>\n",
       "    </tr>\n",
       "    <tr>\n",
       "      <th>...</th>\n",
       "      <td>...</td>\n",
       "      <td>...</td>\n",
       "      <td>...</td>\n",
       "      <td>...</td>\n",
       "      <td>...</td>\n",
       "      <td>...</td>\n",
       "      <td>...</td>\n",
       "    </tr>\n",
       "    <tr>\n",
       "      <th>258</th>\n",
       "      <td>259</td>\n",
       "      <td>0.126750</td>\n",
       "      <td>0.000395</td>\n",
       "      <td>Woodlawn/Wakefield</td>\n",
       "      <td>259</td>\n",
       "      <td>Bronx</td>\n",
       "      <td>POLYGON ((1025414.782 270986.139, 1025138.624 ...</td>\n",
       "    </tr>\n",
       "    <tr>\n",
       "      <th>259</th>\n",
       "      <td>260</td>\n",
       "      <td>0.133514</td>\n",
       "      <td>0.000422</td>\n",
       "      <td>Woodside</td>\n",
       "      <td>260</td>\n",
       "      <td>Queens</td>\n",
       "      <td>POLYGON ((1011466.966 216463.005, 1011545.889 ...</td>\n",
       "    </tr>\n",
       "    <tr>\n",
       "      <th>260</th>\n",
       "      <td>261</td>\n",
       "      <td>0.027120</td>\n",
       "      <td>0.000034</td>\n",
       "      <td>World Trade Center</td>\n",
       "      <td>261</td>\n",
       "      <td>Manhattan</td>\n",
       "      <td>POLYGON ((980555.204 196138.486, 980570.792 19...</td>\n",
       "    </tr>\n",
       "    <tr>\n",
       "      <th>261</th>\n",
       "      <td>262</td>\n",
       "      <td>0.049064</td>\n",
       "      <td>0.000122</td>\n",
       "      <td>Yorkville East</td>\n",
       "      <td>262</td>\n",
       "      <td>Manhattan</td>\n",
       "      <td>MULTIPOLYGON (((999804.795 224498.527, 999824....</td>\n",
       "    </tr>\n",
       "    <tr>\n",
       "      <th>262</th>\n",
       "      <td>263</td>\n",
       "      <td>0.037017</td>\n",
       "      <td>0.000066</td>\n",
       "      <td>Yorkville West</td>\n",
       "      <td>263</td>\n",
       "      <td>Manhattan</td>\n",
       "      <td>POLYGON ((997493.323 220912.386, 997355.264 22...</td>\n",
       "    </tr>\n",
       "  </tbody>\n",
       "</table>\n",
       "<p>263 rows × 7 columns</p>\n",
       "</div>"
      ],
      "text/plain": [
       "     OBJECTID  Shape_Leng  Shape_Area                     zone  LocationID  \\\n",
       "0           1    0.116357    0.000782           Newark Airport           1   \n",
       "1           2    0.433470    0.004866              Jamaica Bay           2   \n",
       "2           3    0.084341    0.000314  Allerton/Pelham Gardens           3   \n",
       "3           4    0.043567    0.000112            Alphabet City           4   \n",
       "4           5    0.092146    0.000498            Arden Heights           5   \n",
       "..        ...         ...         ...                      ...         ...   \n",
       "258       259    0.126750    0.000395       Woodlawn/Wakefield         259   \n",
       "259       260    0.133514    0.000422                 Woodside         260   \n",
       "260       261    0.027120    0.000034       World Trade Center         261   \n",
       "261       262    0.049064    0.000122           Yorkville East         262   \n",
       "262       263    0.037017    0.000066           Yorkville West         263   \n",
       "\n",
       "           borough                                           geometry  \n",
       "0              EWR  POLYGON ((933100.918 192536.086, 933091.011 19...  \n",
       "1           Queens  MULTIPOLYGON (((1033269.244 172126.008, 103343...  \n",
       "2            Bronx  POLYGON ((1026308.770 256767.698, 1026495.593 ...  \n",
       "3        Manhattan  POLYGON ((992073.467 203714.076, 992068.667 20...  \n",
       "4    Staten Island  POLYGON ((935843.310 144283.336, 936046.565 14...  \n",
       "..             ...                                                ...  \n",
       "258          Bronx  POLYGON ((1025414.782 270986.139, 1025138.624 ...  \n",
       "259         Queens  POLYGON ((1011466.966 216463.005, 1011545.889 ...  \n",
       "260      Manhattan  POLYGON ((980555.204 196138.486, 980570.792 19...  \n",
       "261      Manhattan  MULTIPOLYGON (((999804.795 224498.527, 999824....  \n",
       "262      Manhattan  POLYGON ((997493.323 220912.386, 997355.264 22...  \n",
       "\n",
       "[263 rows x 7 columns]"
      ]
     },
     "execution_count": 33,
     "metadata": {},
     "output_type": "execute_result"
    }
   ],
   "source": [
    "gpd.read_file(\"yellow_taxi_data/yellow_taxi_zones/taxi_zones.shp\")"
   ]
  },
  {
   "cell_type": "code",
   "execution_count": 34,
   "id": "9f976c8e-d68e-4b9b-bfbc-bf307cb663b6",
   "metadata": {},
   "outputs": [],
   "source": [
    "na_counts = merged_zone.select([sum(col(c).isNull().cast(\"int\")).alias(c) for c in merged_zone.columns])"
   ]
  },
  {
   "cell_type": "code",
   "execution_count": 35,
   "id": "0cf70574-01c7-4550-8c5a-928433bcad12",
   "metadata": {},
   "outputs": [
    {
     "name": "stderr",
     "output_type": "stream",
     "text": [
      "[Stage 133:==================================================>      (8 + 1) / 9]\r"
     ]
    },
    {
     "name": "stdout",
     "output_type": "stream",
     "text": [
      "+--------------------+---------------------+-------------+------------+------------+-------------+-------------+-------+----------+-------+------+-------------+-------------+-------+----------+-------+------+-------------+-----+---+----+------+---------+----------+\n",
      "|tpep_pickup_datetime|tpep_dropoff_datetime|trip_distance|PULocationID|DOLocationID|PU_Shape_Leng|PU_Shape_Area|PU_Zone|PU_Borough|PU_Long|PU_Lat|DO_Shape_Leng|DO_Shape_Area|DO_Zone|DO_Borough|DO_Long|DO_Lat|duration_mins|month|day|hour|minute|dayOfWeek|is_weekend|\n",
      "+--------------------+---------------------+-------------+------------+------------+-------------+-------------+-------+----------+-------+------+-------------+-------------+-------+----------+-------+------+-------------+-----+---+----+------+---------+----------+\n",
      "|                   0|                    0|            0|           0|           0|            0|            0|      0|         0|      0|     0|            0|            0|      0|         0|      0|     0|            0|    0|  0|   0|     0|        0|         0|\n",
      "+--------------------+---------------------+-------------+------------+------------+-------------+-------------+-------+----------+-------+------+-------------+-------------+-------+----------+-------+------+-------------+-----+---+----+------+---------+----------+\n",
      "\n"
     ]
    },
    {
     "name": "stderr",
     "output_type": "stream",
     "text": [
      "                                                                                \r"
     ]
    }
   ],
   "source": [
    "na_counts.show()"
   ]
  },
  {
   "cell_type": "code",
   "execution_count": 36,
   "id": "b998ce87-3f23-4d67-bee8-d768dc5f449e",
   "metadata": {},
   "outputs": [],
   "source": [
    "train_df, test_df = merged_zone.randomSplit(weights=[0.8,0.2], seed=11)"
   ]
  },
  {
   "cell_type": "code",
   "execution_count": 37,
   "id": "0ccff99f-16a8-4644-bc89-1daa6f57aeb0",
   "metadata": {},
   "outputs": [
    {
     "data": {
      "text/plain": [
       "[('tpep_pickup_datetime', 'timestamp'),\n",
       " ('tpep_dropoff_datetime', 'timestamp'),\n",
       " ('trip_distance', 'double'),\n",
       " ('PULocationID', 'bigint'),\n",
       " ('DOLocationID', 'bigint'),\n",
       " ('PU_Shape_Leng', 'double'),\n",
       " ('PU_Shape_Area', 'double'),\n",
       " ('PU_Zone', 'string'),\n",
       " ('PU_Borough', 'string'),\n",
       " ('PU_Long', 'double'),\n",
       " ('PU_Lat', 'double'),\n",
       " ('DO_Shape_Leng', 'double'),\n",
       " ('DO_Shape_Area', 'double'),\n",
       " ('DO_Zone', 'string'),\n",
       " ('DO_Borough', 'string'),\n",
       " ('DO_Long', 'double'),\n",
       " ('DO_Lat', 'double'),\n",
       " ('duration_mins', 'int'),\n",
       " ('month', 'int'),\n",
       " ('day', 'int'),\n",
       " ('hour', 'int'),\n",
       " ('minute', 'int'),\n",
       " ('dayOfWeek', 'int'),\n",
       " ('is_weekend', 'boolean')]"
      ]
     },
     "execution_count": 37,
     "metadata": {},
     "output_type": "execute_result"
    }
   ],
   "source": [
    "train_df.dtypes"
   ]
  },
  {
   "cell_type": "code",
   "execution_count": 38,
   "id": "501ff1c8-e04f-49af-b008-d60812826e4f",
   "metadata": {},
   "outputs": [],
   "source": [
    "train_df = train_df.drop('tpep_pickup_datetime', 'tpep_dropoff_datetime', 'PU_Borough', 'PU_Zone', 'DO_Borough', 'DO_Zone', 'is_weekend', 'PULocationID', 'DOLocationID', 'DO_Shape_Leng', 'DO_Shape_Area', 'PU_Shape_Leng', 'PU_Shape_Area')"
   ]
  },
  {
   "cell_type": "code",
   "execution_count": 39,
   "id": "ab1ac9a1-1f92-45f7-a833-85adf9e9de9e",
   "metadata": {},
   "outputs": [],
   "source": [
    "label_name = \"duration_mins\"\n",
    "\n",
    "# get a list with feature column names\n",
    "feature_names = [x.name for x in train_df.schema if x.name != label_name]"
   ]
  },
  {
   "cell_type": "code",
   "execution_count": 40,
   "id": "d6a61680",
   "metadata": {},
   "outputs": [
    {
     "data": {
      "text/plain": [
       "['trip_distance',\n",
       " 'PU_Long',\n",
       " 'PU_Lat',\n",
       " 'DO_Long',\n",
       " 'DO_Lat',\n",
       " 'month',\n",
       " 'day',\n",
       " 'hour',\n",
       " 'minute',\n",
       " 'dayOfWeek']"
      ]
     },
     "execution_count": 40,
     "metadata": {},
     "output_type": "execute_result"
    }
   ],
   "source": [
    "feature_names"
   ]
  },
  {
   "cell_type": "code",
   "execution_count": 41,
   "id": "f787e759-9c76-44d2-94b6-a00d4e407e8b",
   "metadata": {},
   "outputs": [],
   "source": [
    "from pyspark.ml.regression import LinearRegression\n",
    "from pyspark.ml.feature import VectorAssembler, StandardScaler\n",
    "\n",
    "assembler = VectorAssembler(inputCols=feature_names, outputCol='features')\n",
    "df_transformed = assembler.transform(train_df)\n"
   ]
  },
  {
   "cell_type": "code",
   "execution_count": 42,
   "id": "06c9bbdf-188b-468f-b83e-d3e2992fbd81",
   "metadata": {},
   "outputs": [
    {
     "name": "stderr",
     "output_type": "stream",
     "text": [
      "                                                                                \r"
     ]
    }
   ],
   "source": [
    "scaler = StandardScaler(inputCol=\"features\", outputCol=\"scaledFeatures\", withStd=True, withMean=True)\n",
    "\n",
    "# Fit the StandardScaler to compute the mean and standard deviation to be used for later scaling\n",
    "scalerModel = scaler.fit(df_transformed)\n",
    "\n",
    "# Normalize each feature to have unit standard deviation and/or zero mean\n",
    "df_normalized = scalerModel.transform(df_transformed)\n"
   ]
  },
  {
   "cell_type": "code",
   "execution_count": 43,
   "id": "a1316422-0a3a-4034-95b1-0f409ed73686",
   "metadata": {},
   "outputs": [],
   "source": [
    "# Define the model\n",
    "lr = LinearRegression(featuresCol='scaledFeatures', labelCol=label_name, regParam=0.3,)"
   ]
  },
  {
   "cell_type": "code",
   "execution_count": 44,
   "id": "bd316169-a2e2-4edf-bdc9-d739eb6b47cd",
   "metadata": {},
   "outputs": [
    {
     "name": "stderr",
     "output_type": "stream",
     "text": [
      "24/05/19 11:41:59 WARN InstanceBuilder: Failed to load implementation from:dev.ludovic.netlib.blas.JNIBLAS\n",
      "24/05/19 11:42:44 WARN InstanceBuilder: Failed to load implementation from:dev.ludovic.netlib.lapack.JNILAPACK\n",
      "                                                                                \r"
     ]
    }
   ],
   "source": [
    "model = lr.fit(df_normalized)\n"
   ]
  },
  {
   "cell_type": "code",
   "execution_count": 45,
   "id": "58ae4960-826e-458c-8281-35ff6ec6598d",
   "metadata": {},
   "outputs": [
    {
     "name": "stdout",
     "output_type": "stream",
     "text": [
      "Coefficient Standard Errors:  [0.01058059611416176, 0.012622571779277234, 0.012890578601249847, 0.011064940165697817, 0.01134266726224986, 0.010583025194088767, 0.010582839734927671, 0.010600233987063671, 0.01058069369620194, 0.010605127526641238, 0.010617062496592432]\n",
      "T Values:  [13.280151654832144, 357.34990838541074, -149.6023420073847, 89.32320249800797, -169.8949504582612, 69.0505771744367, 7.309362445934758, 3.221921807392167, -12.803202881732362, 31.070986841140467, 1552.9703110149499]\n",
      "P Values:  [0.0, 0.0, 0.0, 0.0, 0.0, 0.0, 2.6845192735436285e-13, 0.0012733414101981921, 0.0, 0.0, 0.0]\n",
      "Loss:  [0.0]\n"
     ]
    }
   ],
   "source": [
    "trainingSummary = model.summary\n",
    "print(\"Coefficient Standard Errors: \", trainingSummary.coefficientStandardErrors)\n",
    "print(\"T Values: \", trainingSummary.tValues)\n",
    "print(\"P Values: \", trainingSummary.pValues)\n",
    "print(\"Loss: \", trainingSummary.objectiveHistory)  # Objective history during iterations"
   ]
  },
  {
   "cell_type": "code",
   "execution_count": 46,
   "id": "c4fb68e7-012a-4707-aca8-6b855f1d8e16",
   "metadata": {},
   "outputs": [
    {
     "name": "stderr",
     "output_type": "stream",
     "text": [
      "[Stage 169:==================================================>      (8 + 1) / 9]\r"
     ]
    },
    {
     "name": "stdout",
     "output_type": "stream",
     "text": [
      "Root Mean Squared Error (RMSE) on test data = 42.4341\n"
     ]
    },
    {
     "name": "stderr",
     "output_type": "stream",
     "text": [
      "                                                                                \r"
     ]
    }
   ],
   "source": [
    "from pyspark.ml.evaluation import RegressionEvaluator\n",
    "\n",
    "test_df_transformed = assembler.transform(test_df)\n",
    "test_df_normalized = scalerModel.transform(test_df_transformed)\n",
    "predictions = model.transform(test_df_normalized)\n",
    "\n",
    "evaluator = RegressionEvaluator(\n",
    "    labelCol=label_name,\n",
    "    predictionCol=\"prediction\",\n",
    "    metricName=\"rmse\"  # You can change this to \"mse\", \"mae\", or \"r2\"\n",
    ")\n",
    "\n",
    "rmse = evaluator.evaluate(predictions)\n",
    "print(\"Root Mean Squared Error (RMSE) on test data = %g\" % rmse)"
   ]
  },
  {
   "cell_type": "code",
   "execution_count": 47,
   "id": "fae258b8-46cc-40be-8b47-b0f6c9473be7",
   "metadata": {},
   "outputs": [
    {
     "name": "stderr",
     "output_type": "stream",
     "text": [
      "24/05/19 11:49:17 WARN SparkStringUtils: Truncated the string representation of a plan since it was too large. This behavior can be adjusted by setting 'spark.sql.debug.maxToStringFields'.\n",
      "[Stage 176:>                                                        (0 + 1) / 1]\r"
     ]
    },
    {
     "name": "stdout",
     "output_type": "stream",
     "text": [
      "+--------------------+---------------------+-------------+------------+------------+---------------+----------------+--------------------+----------+------------------+------------------+------------------+--------------------+--------------------+----------+------------------+------------------+-------------+-----+---+----+------+---------+----------+--------------------+--------------------+------------------+\n",
      "|tpep_pickup_datetime|tpep_dropoff_datetime|trip_distance|PULocationID|DOLocationID|  PU_Shape_Leng|   PU_Shape_Area|             PU_Zone|PU_Borough|           PU_Long|            PU_Lat|     DO_Shape_Leng|       DO_Shape_Area|             DO_Zone|DO_Borough|           DO_Long|            DO_Lat|duration_mins|month|day|hour|minute|dayOfWeek|is_weekend|            features|      scaledFeatures|        prediction|\n",
      "+--------------------+---------------------+-------------+------------+------------+---------------+----------------+--------------------+----------+------------------+------------------+------------------+--------------------+--------------------+----------+------------------+------------------+-------------+-----+---+----+------+---------+----------+--------------------+--------------------+------------------+\n",
      "| 2022-10-24 23:15:32|  2022-10-24 23:15:42|          0.0|         211|         211|0.0252345082132|3.97291966087E-5|                SoHo| Manhattan|-74.00137472995894| 40.72389907146951|   0.0252345082132|    3.97291966087E-5|                SoHo| Manhattan|-74.00137472995894| 40.72389907146951|            0|   10| 24|  23|    15|        2|     false|[0.0,-74.00137472...|[-0.0165635958487...| 18.48098479601192|\n",
      "| 2022-10-25 00:42:10|  2022-10-25 00:44:22|         0.97|         132|         132|  0.24547851707|0.00203830095472|         JFK Airport|    Queens|-73.77826365889905|40.642604521716564|     0.24547851707|    0.00203830095472|         JFK Airport|    Queens|-73.77826365889905|40.642604521716564|            2|   10| 25|   0|    42|        3|     false|[0.97,-73.7782636...|[-0.0126218055638...|53.125366589100764|\n",
      "| 2022-10-25 13:03:37|  2022-10-25 13:03:40|         0.22|         138|         264| 0.107466933508|5.36797294367E-4|   LaGuardia Airport|    Queens|-73.87280371468938| 40.77486738951864|0.0528507162745585|1.602759920495633E-4|          OutsideNYC|OutsideNYC|-73.97099569718723| 40.75379255105642|            0|   10| 25|  13|     3|        3|     false|[0.22,-73.8728037...|[-0.0156695815573...|26.008036279208213|\n",
      "| 2022-12-31 14:24:54|  2022-12-31 14:35:25|         0.41|          48|         163|0.0437467441431|9.42538425377E-5|        Clinton East| Manhattan|-73.98985665083148|40.762236755614545|   0.0341768669752|    4.08567804196E-5|       Midtown North| Manhattan|-73.97836698801483| 40.76442545340291|           10|   12| 31|  14|    24|        7|      true|[0.41,-73.9898566...|[-0.0148974783056...|17.077955931424416|\n",
      "| 2022-12-31 14:39:43|  2022-12-31 14:43:37|         0.54|         163|         162|0.0341768669752|4.08567804196E-5|       Midtown North| Manhattan|-73.97836698801483| 40.76442545340291|   0.0352698146219|    4.78936962112E-5|        Midtown East| Manhattan|-73.97214548508123|40.756816155312855|            3|   12| 31|  14|    39|        7|      true|[0.54,-73.9783669...|[-0.0143691971334...|18.454025261894653|\n",
      "| 2022-12-31 22:02:51|  2022-12-31 22:28:31|         7.78|          79|         238|0.0426249113144|1.07893068218E-4|        East Village| Manhattan|-73.98521412439773|40.727944278905156|   0.0601093114033|    1.84763693765E-4|Upper West Side N...| Manhattan|-73.97281451745027|40.791766246782664|           25|   12| 31|  22|     2|        7|      true|[7.78,-73.9852141...|[0.01505200045681...|18.209945231875363|\n",
      "| 2022-12-31 22:34:05|  2022-12-31 22:40:07|         0.91|         239|         142|0.0636261152958|2.04715440774E-4|Upper West Side S...| Manhattan|-73.97827334184863| 40.78410736455398|   0.0381758942321|    7.56537920738E-5| Lincoln Square East| Manhattan|-73.98135241373991| 40.77390598538879|            6|   12| 31|  22|    34|        7|      true|[0.91,-73.9782733...|[-0.0128656276433...|16.152939299989423|\n",
      "| 2022-12-31 23:36:21|  2022-12-31 23:41:57|         1.25|         186|         249|0.0246963902234|3.70729416953E-5|Penn Station/Madi...| Manhattan|-73.99245532771059|40.748476361762066|     0.03638434365|    7.22155957729E-5|        West Village| Manhattan|-74.00249690862721| 40.73461155598208|            5|   12| 31|  23|    36|        7|      true|[1.25,-73.9924553...|[-0.0114839691929...|18.775496582488813|\n",
      "| 2022-12-31 23:53:04|  2022-12-31 23:59:22|         1.15|         148|          79|0.0391305015633|6.97489921327E-5|     Lower East Side| Manhattan|-73.99071836266104| 40.71921167420639|   0.0426249113144|    1.07893068218E-4|        East Village| Manhattan|-73.98521412439773|40.727944278905156|            6|   12| 31|  23|    53|        7|      true|[1.15,-73.9907183...|[-0.0118903393254...| 21.33027756604119|\n",
      "| 2022-12-31 23:57:51|  2023-01-01 00:13:13|         8.02|         138|         229| 0.107466933508|5.36797294367E-4|   LaGuardia Airport|    Queens|-73.87280371468938| 40.77486738951864|   0.0425252900116|    9.47058230931E-5|Sutton Place/Turt...| Manhattan|-73.96517419892116|  40.7565892984895|           15|   12| 31|  23|    57|        7|      true|[8.02,-73.8728037...|[0.01602728877472...| 27.22206360851273|\n",
      "+--------------------+---------------------+-------------+------------+------------+---------------+----------------+--------------------+----------+------------------+------------------+------------------+--------------------+--------------------+----------+------------------+------------------+-------------+-----+---+----+------+---------+----------+--------------------+--------------------+------------------+\n",
      "only showing top 10 rows\n",
      "\n"
     ]
    },
    {
     "name": "stderr",
     "output_type": "stream",
     "text": [
      "                                                                                \r"
     ]
    }
   ],
   "source": [
    "predictions.show(10)"
   ]
  },
  {
   "cell_type": "code",
   "execution_count": 48,
   "id": "65504bc2-a13a-4f2d-97f6-9325c9759031",
   "metadata": {},
   "outputs": [
    {
     "data": {
      "text/plain": [
       "['trip_distance',\n",
       " 'PU_Long',\n",
       " 'PU_Lat',\n",
       " 'DO_Long',\n",
       " 'DO_Lat',\n",
       " 'month',\n",
       " 'day',\n",
       " 'hour',\n",
       " 'minute',\n",
       " 'dayOfWeek']"
      ]
     },
     "execution_count": 48,
     "metadata": {},
     "output_type": "execute_result"
    }
   ],
   "source": [
    "feature_names"
   ]
  },
  {
   "cell_type": "code",
   "execution_count": 49,
   "id": "663dbb7f-a574-4f7f-89be-54b1c26fe1db",
   "metadata": {},
   "outputs": [
    {
     "name": "stderr",
     "output_type": "stream",
     "text": [
      "[Stage 182:>                                                        (0 + 1) / 1]\r"
     ]
    },
    {
     "name": "stdout",
     "output_type": "stream",
     "text": [
      "+-------------+------------------+------------------+------------------+------------------+-------------+-----+---+----+------+---------+--------------------+--------------------+------------------+\n",
      "|trip_distance|           PU_Long|            PU_Lat|           DO_Long|            DO_Lat|duration_mins|month|day|hour|minute|dayOfWeek|            features|      scaledFeatures|        prediction|\n",
      "+-------------+------------------+------------------+------------------+------------------+-------------+-----+---+----+------+---------+--------------------+--------------------+------------------+\n",
      "|          0.0|-74.00137472995894| 40.72389907146951|-74.00137472995894| 40.72389907146951|            0|   10| 24|  23|    15|        2|[0.0,-74.00137472...|[-0.0165635958487...| 18.48098479601192|\n",
      "|         0.97|-73.77826365889905|40.642604521716564|-73.77826365889905|40.642604521716564|            2|   10| 25|   0|    42|        3|[0.97,-73.7782636...|[-0.0126218055638...|53.125366589100764|\n",
      "|         0.22|-73.87280371468938| 40.77486738951864|-73.97099569718723| 40.75379255105642|            0|   10| 25|  13|     3|        3|[0.22,-73.8728037...|[-0.0156695815573...|26.008036279208213|\n",
      "|         0.41|-73.98985665083148|40.762236755614545|-73.97836698801483| 40.76442545340291|           10|   12| 31|  14|    24|        7|[0.41,-73.9898566...|[-0.0148974783056...|17.077955931424416|\n",
      "|         0.54|-73.97836698801483| 40.76442545340291|-73.97214548508123|40.756816155312855|            3|   12| 31|  14|    39|        7|[0.54,-73.9783669...|[-0.0143691971334...|18.454025261894653|\n",
      "|         7.78|-73.98521412439773|40.727944278905156|-73.97281451745027|40.791766246782664|           25|   12| 31|  22|     2|        7|[7.78,-73.9852141...|[0.01505200045681...|18.209945231875363|\n",
      "|         0.91|-73.97827334184863| 40.78410736455398|-73.98135241373991| 40.77390598538879|            6|   12| 31|  22|    34|        7|[0.91,-73.9782733...|[-0.0128656276433...|16.152939299989423|\n",
      "|         1.25|-73.99245532771059|40.748476361762066|-74.00249690862721| 40.73461155598208|            5|   12| 31|  23|    36|        7|[1.25,-73.9924553...|[-0.0114839691929...|18.775496582488813|\n",
      "|         1.15|-73.99071836266104| 40.71921167420639|-73.98521412439773|40.727944278905156|            6|   12| 31|  23|    53|        7|[1.15,-73.9907183...|[-0.0118903393254...| 21.33027756604119|\n",
      "|         8.02|-73.87280371468938| 40.77486738951864|-73.96517419892116|  40.7565892984895|           15|   12| 31|  23|    57|        7|[8.02,-73.8728037...|[0.01602728877472...| 27.22206360851273|\n",
      "|         2.11|-73.97743183810948| 40.75822648122194|-73.99047761896912|   40.740313464588|           10|   12| 31|  23|    58|        7|[2.11,-73.9774318...|[-0.0079891860537...| 19.32133524434653|\n",
      "|         0.38|-73.95456804213484| 40.76550681823188|-73.95971267878048|40.766838816584844|            0|   12| 31|  23|    59|        7|[0.38,-73.9545680...|[-0.0150193893453...|20.094505945651573|\n",
      "|         1.32|-74.00249690862721| 40.73461155598208|-73.99245532771059|40.748476361762066|           26|    1|  1|   0|     0|        1|[1.32,-74.0024969...|[-0.0111995101002...|12.243468891941912|\n",
      "|         0.95|-73.98521412439773|40.727944278905156|-73.98331035324627|40.737348376320895|            3|    1|  1|   0|     0|        1|[0.95,-73.9852141...|[-0.0127030795903...|15.043321696010914|\n",
      "|          2.1|-73.97694199243666|40.747654281102605|-73.99462821715102|40.732485951827215|           16|    1|  1|   0|     1|        1|[2.1,-73.97694199...|[-0.0080298230670...|14.621004525827862|\n",
      "|        12.07|  -73.964407108201|40.750971302398376|-73.93282431823545| 40.85867028663156|           19|    1|  1|   0|     2|        1|[12.07,-73.964407...|[0.03248527913943...| 9.566005279759324|\n",
      "|         1.28|-73.95697238530639| 40.78049147573493|-73.97827334184863| 40.78410736455398|            5|    1|  1|   0|     2|        1|[1.28,-73.9569723...|[-0.0113620581532...|11.794205333489955|\n",
      "|         6.64|-73.87280371468938| 40.77486738951864|-73.95206533089235| 40.80420482862963|           14|    1|  1|   0|     2|        1|[6.64,-73.8728037...|[0.01041938094674...|18.978526478217198|\n",
      "|          1.3|-73.98521412439773|40.727944278905156|-73.97711937073461| 40.74035923571343|            6|    1|  1|   0|     2|        1|[1.3,-73.98521412...|[-0.0112807841267...|15.005214679782476|\n",
      "|         0.68|-73.99047761896912|   40.740313464588|-73.98592880648783|40.748807666813406|            5|    1|  1|   0|     2|        1|[0.68,-73.9904776...|[-0.0138002789479...|13.097222151371453|\n",
      "+-------------+------------------+------------------+------------------+------------------+-------------+-----+---+----+------+---------+--------------------+--------------------+------------------+\n",
      "only showing top 20 rows\n",
      "\n"
     ]
    },
    {
     "name": "stderr",
     "output_type": "stream",
     "text": [
      "                                                                                \r"
     ]
    }
   ],
   "source": [
    "predictions.drop('tpep_pickup_datetime', 'tpep_dropoff_datetime', 'PU_Borough', 'PU_Zone', 'DO_Borough', 'DO_Zone', 'is_weekend', 'PULocationID', 'DOLocationID', 'DO_Shape_Leng', 'DO_Shape_Area', 'PU_Shape_Leng', 'PU_Shape_Area').show(20)"
   ]
  },
  {
   "cell_type": "code",
   "execution_count": 50,
   "id": "4bb16b42",
   "metadata": {},
   "outputs": [],
   "source": [
    "from xgboost.spark import SparkXGBRegressor"
   ]
  },
  {
   "cell_type": "code",
   "execution_count": 51,
   "id": "f31f3f35",
   "metadata": {},
   "outputs": [],
   "source": [
    "xgboost_regressor = SparkXGBRegressor(features_col=\"scaledFeatures\", label_col=label_name)\n"
   ]
  },
  {
   "cell_type": "code",
   "execution_count": 52,
   "id": "2f2fca0c",
   "metadata": {},
   "outputs": [
    {
     "name": "stderr",
     "output_type": "stream",
     "text": [
      "INFO:XGBoost-PySpark:Running xgboost-2.0.3 on 1 workers with====> (47 + 1) / 48]\n",
      "\tbooster params: {'objective': 'reg:squarederror', 'device': 'cpu', 'nthread': 1}\n",
      "\ttrain_call_kwargs_params: {'verbose_eval': True, 'num_boost_round': 100}\n",
      "\tdmatrix_kwargs: {'nthread': 1, 'missing': nan}\n",
      "/Users/mj/conda_env/tf/lib/python3.9/site-packages/scipy/__init__.py:146: UserWarning: A NumPy version >=1.16.5 and <1.23.0 is required for this version of SciPy (detected version 1.26.4\n",
      "  warnings.warn(f\"A NumPy version >={np_minversion} and <{np_maxversion}\"\n",
      "[11:54:36] task 0 got new rank 0\n",
      "INFO:XGBoost-PySpark:Finished xgboost training!                                 \n"
     ]
    }
   ],
   "source": [
    "xgb_regression_model = xgboost_regressor.fit(df_normalized)"
   ]
  },
  {
   "cell_type": "code",
   "execution_count": 53,
   "id": "1b1abaae",
   "metadata": {},
   "outputs": [],
   "source": [
    "xgbr_predictions = xgb_regression_model.transform(test_df_normalized)"
   ]
  },
  {
   "cell_type": "code",
   "execution_count": 54,
   "id": "a6f0e646",
   "metadata": {},
   "outputs": [
    {
     "name": "stderr",
     "output_type": "stream",
     "text": [
      "INFO:XGBoost-PySpark:Do the inference on the CPUs===============> (47 + 1) / 48]\n",
      "/Users/mj/conda_env/tf/lib/python3.9/site-packages/scipy/__init__.py:146: UserWarning: A NumPy version >=1.16.5 and <1.23.0 is required for this version of SciPy (detected version 1.26.4\n",
      "  warnings.warn(f\"A NumPy version >={np_minversion} and <{np_maxversion}\"\n",
      "/Users/mj/conda_env/tf/lib/python3.9/site-packages/scipy/__init__.py:146: UserWarning: A NumPy version >=1.16.5 and <1.23.0 is required for this version of SciPy (detected version 1.26.4\n",
      "  warnings.warn(f\"A NumPy version >={np_minversion} and <{np_maxversion}\"\n",
      "/Users/mj/conda_env/tf/lib/python3.9/site-packages/scipy/__init__.py:146: UserWarning: A NumPy version >=1.16.5 and <1.23.0 is required for this version of SciPy (detected version 1.26.4\n",
      "  warnings.warn(f\"A NumPy version >={np_minversion} and <{np_maxversion}\"\n",
      "/Users/mj/conda_env/tf/lib/python3.9/site-packages/scipy/__init__.py:146: UserWarning: A NumPy version >=1.16.5 and <1.23.0 is required for this version of SciPy (detected version 1.26.4\n",
      "  warnings.warn(f\"A NumPy version >={np_minversion} and <{np_maxversion}\"\n",
      "/Users/mj/conda_env/tf/lib/python3.9/site-packages/scipy/__init__.py:146: UserWarning: A NumPy version >=1.16.5 and <1.23.0 is required for this version of SciPy (detected version 1.26.4\n",
      "  warnings.warn(f\"A NumPy version >={np_minversion} and <{np_maxversion}\"\n",
      "/Users/mj/conda_env/tf/lib/python3.9/site-packages/scipy/__init__.py:146: UserWarning: A NumPy version >=1.16.5 and <1.23.0 is required for this version of SciPy (detected version 1.26.4\n",
      "  warnings.warn(f\"A NumPy version >={np_minversion} and <{np_maxversion}\"\n",
      "/Users/mj/conda_env/tf/lib/python3.9/site-packages/scipy/__init__.py:146: UserWarning: A NumPy version >=1.16.5 and <1.23.0 is required for this version of SciPy (detected version 1.26.4\n",
      "  warnings.warn(f\"A NumPy version >={np_minversion} and <{np_maxversion}\"\n",
      "2024-05-19 11:55:58,849 INFO XGBoost-PySpark: predict_udf Do the inference on the CPUs\n",
      "2024-05-19 11:55:58,891 INFO XGBoost-PySpark: predict_udf Do the inference on the CPUs\n",
      "2024-05-19 11:55:58,893 INFO XGBoost-PySpark: predict_udf Do the inference on the CPUs\n",
      "2024-05-19 11:55:58,899 INFO XGBoost-PySpark: predict_udf Do the inference on the CPUs\n",
      "2024-05-19 11:55:58,903 INFO XGBoost-PySpark: predict_udf Do the inference on the CPUs\n",
      "2024-05-19 11:55:58,918 INFO XGBoost-PySpark: predict_udf Do the inference on the CPUs\n",
      "2024-05-19 11:55:58,931 INFO XGBoost-PySpark: predict_udf Do the inference on the CPUs\n",
      "2024-05-19 11:55:58,940 INFO XGBoost-PySpark: predict_udf Do the inference on the CPUs\n",
      "[Stage 201:==================================================>      (8 + 1) / 9]\r"
     ]
    },
    {
     "name": "stdout",
     "output_type": "stream",
     "text": [
      "Root Mean Squared Error (RMSE) on test data = 41.2483\n"
     ]
    },
    {
     "name": "stderr",
     "output_type": "stream",
     "text": [
      "                                                                                \r"
     ]
    }
   ],
   "source": [
    "xgb_rmse = evaluator.evaluate(xgbr_predictions)\n",
    "print(\"Root Mean Squared Error (RMSE) on test data = %g\" % xgb_rmse)"
   ]
  },
  {
   "cell_type": "code",
   "execution_count": null,
   "id": "95848bd1",
   "metadata": {},
   "outputs": [],
   "source": []
  },
  {
   "cell_type": "code",
   "execution_count": null,
   "id": "87993c11",
   "metadata": {},
   "outputs": [],
   "source": []
  }
 ],
 "metadata": {
  "kernelspec": {
   "display_name": "Python 3 (ipykernel)",
   "language": "python",
   "name": "python3"
  },
  "language_info": {
   "codemirror_mode": {
    "name": "ipython",
    "version": 3
   },
   "file_extension": ".py",
   "mimetype": "text/x-python",
   "name": "python",
   "nbconvert_exporter": "python",
   "pygments_lexer": "ipython3",
   "version": "3.9.9"
  }
 },
 "nbformat": 4,
 "nbformat_minor": 5
}
